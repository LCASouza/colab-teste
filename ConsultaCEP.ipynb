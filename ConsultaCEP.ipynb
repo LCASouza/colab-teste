{
  "nbformat": 4,
  "nbformat_minor": 0,
  "metadata": {
    "colab": {
      "name": "ConsultaCEP.ipynb",
      "provenance": [],
      "collapsed_sections": [],
      "authorship_tag": "ABX9TyOiPZ7tLxcrxzJMe+CKf7PM",
      "include_colab_link": true
    },
    "kernelspec": {
      "name": "python3",
      "display_name": "Python 3"
    },
    "language_info": {
      "name": "python"
    }
  },
  "cells": [
    {
      "cell_type": "markdown",
      "metadata": {
        "id": "view-in-github",
        "colab_type": "text"
      },
      "source": [
        "<a href=\"https://colab.research.google.com/github/LCASouza/colab-teste/blob/main/ConsultaCEP.ipynb\" target=\"_parent\"><img src=\"https://colab.research.google.com/assets/colab-badge.svg\" alt=\"Open In Colab\"/></a>"
      ]
    },
    {
      "cell_type": "code",
      "metadata": {
        "id": "xmeyW2ribdoC"
      },
      "source": [
        "import requests"
      ],
      "execution_count": null,
      "outputs": []
    },
    {
      "cell_type": "code",
      "metadata": {
        "id": "WFN7XXa_I_nH"
      },
      "source": [
        "def consultaCEP(cepInput):\n",
        "  cepInput = str(cepInput)\n",
        "  if len(cepInput) != 8:\n",
        "    print('CEP {} inválido.'.format(cepInput))\n",
        "    return;\n",
        "  retorno = requests.get('https://viacep.com.br/ws/{}/json/'.format(cepInput));\n",
        "\n",
        "  retorno = retorno.json()\n",
        "\n",
        "  print('Estado: {}\\n'\n",
        "        'Cidade: {}\\n'\n",
        "        'Bairro: {}\\n'\n",
        "        'Rua: {}\\n'\n",
        "        'CEP: {}\\n'.format(retorno['uf'], retorno['localidade'], retorno['bairro'], retorno['logradouro'], retorno['cep'], retorno['ddd']))"
      ],
      "execution_count": null,
      "outputs": []
    },
    {
      "cell_type": "code",
      "metadata": {
        "colab": {
          "base_uri": "https://localhost:8080/"
        },
        "id": "9GeGbRKxBCSg",
        "outputId": "1d712daa-c416-4d1e-8604-22e8abb9c4be"
      },
      "source": [
        "consultaCEP(74958143)"
      ],
      "execution_count": 7,
      "outputs": [
        {
          "output_type": "stream",
          "name": "stdout",
          "text": [
            "Estado: GO\n",
            "Cidade: Aparecida de Goiânia\n",
            "Bairro: Jardim Veneza\n",
            "Rua: Rua da Páscoa\n",
            "CEP: 74958-143\n",
            "\n"
          ]
        }
      ]
    }
  ]
}