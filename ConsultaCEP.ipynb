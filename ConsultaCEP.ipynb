{
  "nbformat": 4,
  "nbformat_minor": 0,
  "metadata": {
    "colab": {
      "name": "ConsultaCEP.ipynb",
      "provenance": [],
      "collapsed_sections": [],
      "authorship_tag": "ABX9TyNu9vI6CD5q3iaJymOzbFM5",
      "include_colab_link": true
    },
    "kernelspec": {
      "name": "python3",
      "display_name": "Python 3"
    },
    "language_info": {
      "name": "python"
    }
  },
  "cells": [
    {
      "cell_type": "markdown",
      "metadata": {
        "id": "view-in-github",
        "colab_type": "text"
      },
      "source": [
        "<a href=\"https://colab.research.google.com/github/LCASouza/colab-teste/blob/main/ConsultaCEP.ipynb\" target=\"_parent\"><img src=\"https://colab.research.google.com/assets/colab-badge.svg\" alt=\"Open In Colab\"/></a>"
      ]
    },
    {
      "cell_type": "code",
      "metadata": {
        "id": "xmeyW2ribdoC"
      },
      "source": [
        "import requests"
      ],
      "execution_count": null,
      "outputs": []
    },
    {
      "cell_type": "code",
      "metadata": {
        "id": "TQJF1Pyu3FAf"
      },
      "source": [
        ""
      ],
      "execution_count": null,
      "outputs": []
    },
    {
      "cell_type": "code",
      "metadata": {
        "id": "WFN7XXa_I_nH"
      },
      "source": [
        "def consultaCEP(cepInput):\n",
        "  cepInput = str(cepInput)\n",
        "  if len(cepInput) != 8:\n",
        "    print('CEP {} inválido.'.format(cepInput))\n",
        "    pass;\n",
        "  retorno = requests.get('https://viacep.com.br/ws/{}/json/'.format(cepInput));\n",
        "\n",
        "  retorno = retorno.json()\n",
        "\n",
        "  print('Estado: {}\\n'\n",
        "        'Cidade: {}\\n'\n",
        "        'Bairro: {}\\n'\n",
        "        'Rua: {}\\n'\n",
        "        'CEP: {}\\n'.format(retorno['uf'], retorno['localidade'], retorno['bairro'], retorno['logradouro'], retorno['cep'], retorno['ddd']))"
      ],
      "execution_count": null,
      "outputs": []
    },
    {
      "cell_type": "code",
      "metadata": {
        "colab": {
          "base_uri": "https://localhost:8080/"
        },
        "id": "JSp_6DMEL55d",
        "outputId": "4d95de4f-4d90-4e30-81c8-6816f0c4d714"
      },
      "source": [
        "consultaCEP(75043020)"
      ],
      "execution_count": null,
      "outputs": [
        {
          "output_type": "stream",
          "name": "stdout",
          "text": [
            "Estado: GO\n",
            "Cidade: Anápolis\n",
            "Bairro: Centro\n",
            "Rua: Rua Firmo de Velasco\n",
            "CEP: 75043-020\n",
            "\n"
          ]
        }
      ]
    }
  ]
}